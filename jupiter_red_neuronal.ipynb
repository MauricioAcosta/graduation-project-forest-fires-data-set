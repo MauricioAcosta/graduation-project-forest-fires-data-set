{
 "cells": [
  {
   "cell_type": "code",
   "execution_count": 4,
   "id": "continuous-ballet",
   "metadata": {},
   "outputs": [],
   "source": [
    "#!/usr/bin/env python3\n",
    "import time\n",
    "import math\n",
    "import numpy as np\n",
    "import pandas as pd\n",
    "import matplotlib.pyplot as plt\n",
    "from sklearn.model_selection import train_test_split\n",
    "from sklearn.preprocessing import StandardScaler\n",
    "from sklearn.neural_network import MLPClassifier, MLPRegressor\n",
    "from sklearn.metrics import mean_squared_error, r2_score, mean_absolute_error\n",
    "from random import randint\n",
    "from joblib import dump, load"
   ]
  },
  {
   "cell_type": "code",
   "execution_count": 5,
   "id": "breathing-textbook",
   "metadata": {},
   "outputs": [],
   "source": [
    "# X,Y,month,day,FFMC,DMC,DC,ISI,temp,RH,wind,rain,area\n",
    "df = pd.read_csv('data/forestfires.csv', sep=',')\n",
    "df['X'] = df.apply(lambda row: (row['X']-1)/8, axis=1)\n",
    "df['Y'] = df.apply(lambda row: (row['Y']-2)/7, axis=1)\n",
    "df['month'] = df.apply(lambda row: row['month'], axis=1)\n",
    "df['day'] = df.apply(lambda row: row['day'], axis=1)\n",
    "df['FFMC'] = df.apply(lambda row: (row['FFMC']-18.7)/77.5, axis=1)\n",
    "df['DMC'] = df.apply(lambda row: (row['DMC']-1.1)/290.2, axis=1)\n",
    "df['DC'] = df.apply(lambda row: (row['DC']-7.9)/852.7, axis=1)\n",
    "df['ISI'] = df.apply(lambda row: (row['ISI'])/56.1, axis=1)\n",
    "df['temp'] = df.apply(lambda row: (row['temp'])/40, axis=1)\n",
    "df['RH'] = df.apply(lambda row: (row['RH'])/100, axis=1)\n",
    "df['wind'] = df.apply(lambda row: (row['wind'])/10, axis=1)\n",
    "df['rain'] = df.apply(lambda row: (row['rain'])/10, axis=1)\n",
    "df['area'] = df.apply(lambda row: (row['area'])/1500, axis=1)"
   ]
  },
  {
   "cell_type": "code",
   "execution_count": 6,
   "id": "ultimate-toronto",
   "metadata": {},
   "outputs": [
    {
     "ename": "KeyError",
     "evalue": "\"['day_mon', 'month_dec', 'month_feb', 'day_wed', 'month_apr', 'month_nov', 'month_sep', 'month_jun', 'month_oct', 'month_may', 'day_sun', 'day_thu', 'day_tue', 'day_fri', 'month_jan', 'month_jul', 'month_mar', 'month_aug', 'day_sat'] not in index\"",
     "output_type": "error",
     "traceback": [
      "\u001b[0;31m---------------------------------------------------------------------------\u001b[0m",
      "\u001b[0;31mKeyError\u001b[0m                                  Traceback (most recent call last)",
      "\u001b[0;32m<ipython-input-6-7cf7de1c8b21>\u001b[0m in \u001b[0;36m<module>\u001b[0;34m\u001b[0m\n\u001b[1;32m      1\u001b[0m \u001b[0mdf\u001b[0m\u001b[0;34m\u001b[0m\u001b[0;34m\u001b[0m\u001b[0m\n\u001b[0;32m----> 2\u001b[0;31m X = df[[\n\u001b[0m\u001b[1;32m      3\u001b[0m     \u001b[0;34m'X'\u001b[0m\u001b[0;34m,\u001b[0m \u001b[0;34m'Y'\u001b[0m\u001b[0;34m,\u001b[0m \u001b[0;34m'FFMC'\u001b[0m\u001b[0;34m,\u001b[0m \u001b[0;34m'DMC'\u001b[0m\u001b[0;34m,\u001b[0m \u001b[0;34m'DC'\u001b[0m\u001b[0;34m,\u001b[0m \u001b[0;34m'ISI'\u001b[0m\u001b[0;34m,\u001b[0m \u001b[0;34m'temp'\u001b[0m\u001b[0;34m,\u001b[0m \u001b[0;34m'RH'\u001b[0m\u001b[0;34m,\u001b[0m \u001b[0;34m'wind'\u001b[0m\u001b[0;34m,\u001b[0m \u001b[0;34m'rain'\u001b[0m\u001b[0;34m,\u001b[0m\u001b[0;34m\u001b[0m\u001b[0;34m\u001b[0m\u001b[0m\n\u001b[1;32m      4\u001b[0m     \u001b[0;34m'month_apr'\u001b[0m\u001b[0;34m,\u001b[0m \u001b[0;34m'month_aug'\u001b[0m\u001b[0;34m,\u001b[0m \u001b[0;34m'month_dec'\u001b[0m\u001b[0;34m,\u001b[0m \u001b[0;34m'month_feb'\u001b[0m\u001b[0;34m,\u001b[0m \u001b[0;34m'month_jan'\u001b[0m\u001b[0;34m,\u001b[0m\u001b[0;34m\u001b[0m\u001b[0;34m\u001b[0m\u001b[0m\n\u001b[1;32m      5\u001b[0m        \u001b[0;34m'month_jul'\u001b[0m\u001b[0;34m,\u001b[0m \u001b[0;34m'month_jun'\u001b[0m\u001b[0;34m,\u001b[0m \u001b[0;34m'month_mar'\u001b[0m\u001b[0;34m,\u001b[0m \u001b[0;34m'month_may'\u001b[0m\u001b[0;34m,\u001b[0m \u001b[0;34m'month_nov'\u001b[0m\u001b[0;34m,\u001b[0m\u001b[0;34m\u001b[0m\u001b[0;34m\u001b[0m\u001b[0m\n",
      "\u001b[0;32m~/tesis/proyecto-de-grado/my_env/lib/python3.8/site-packages/pandas/core/frame.py\u001b[0m in \u001b[0;36m__getitem__\u001b[0;34m(self, key)\u001b[0m\n\u001b[1;32m   3028\u001b[0m             \u001b[0;32mif\u001b[0m \u001b[0mis_iterator\u001b[0m\u001b[0;34m(\u001b[0m\u001b[0mkey\u001b[0m\u001b[0;34m)\u001b[0m\u001b[0;34m:\u001b[0m\u001b[0;34m\u001b[0m\u001b[0;34m\u001b[0m\u001b[0m\n\u001b[1;32m   3029\u001b[0m                 \u001b[0mkey\u001b[0m \u001b[0;34m=\u001b[0m \u001b[0mlist\u001b[0m\u001b[0;34m(\u001b[0m\u001b[0mkey\u001b[0m\u001b[0;34m)\u001b[0m\u001b[0;34m\u001b[0m\u001b[0;34m\u001b[0m\u001b[0m\n\u001b[0;32m-> 3030\u001b[0;31m             \u001b[0mindexer\u001b[0m \u001b[0;34m=\u001b[0m \u001b[0mself\u001b[0m\u001b[0;34m.\u001b[0m\u001b[0mloc\u001b[0m\u001b[0;34m.\u001b[0m\u001b[0m_get_listlike_indexer\u001b[0m\u001b[0;34m(\u001b[0m\u001b[0mkey\u001b[0m\u001b[0;34m,\u001b[0m \u001b[0maxis\u001b[0m\u001b[0;34m=\u001b[0m\u001b[0;36m1\u001b[0m\u001b[0;34m,\u001b[0m \u001b[0mraise_missing\u001b[0m\u001b[0;34m=\u001b[0m\u001b[0;32mTrue\u001b[0m\u001b[0;34m)\u001b[0m\u001b[0;34m[\u001b[0m\u001b[0;36m1\u001b[0m\u001b[0;34m]\u001b[0m\u001b[0;34m\u001b[0m\u001b[0;34m\u001b[0m\u001b[0m\n\u001b[0m\u001b[1;32m   3031\u001b[0m \u001b[0;34m\u001b[0m\u001b[0m\n\u001b[1;32m   3032\u001b[0m         \u001b[0;31m# take() does not accept boolean indexers\u001b[0m\u001b[0;34m\u001b[0m\u001b[0;34m\u001b[0m\u001b[0;34m\u001b[0m\u001b[0m\n",
      "\u001b[0;32m~/tesis/proyecto-de-grado/my_env/lib/python3.8/site-packages/pandas/core/indexing.py\u001b[0m in \u001b[0;36m_get_listlike_indexer\u001b[0;34m(self, key, axis, raise_missing)\u001b[0m\n\u001b[1;32m   1264\u001b[0m             \u001b[0mkeyarr\u001b[0m\u001b[0;34m,\u001b[0m \u001b[0mindexer\u001b[0m\u001b[0;34m,\u001b[0m \u001b[0mnew_indexer\u001b[0m \u001b[0;34m=\u001b[0m \u001b[0max\u001b[0m\u001b[0;34m.\u001b[0m\u001b[0m_reindex_non_unique\u001b[0m\u001b[0;34m(\u001b[0m\u001b[0mkeyarr\u001b[0m\u001b[0;34m)\u001b[0m\u001b[0;34m\u001b[0m\u001b[0;34m\u001b[0m\u001b[0m\n\u001b[1;32m   1265\u001b[0m \u001b[0;34m\u001b[0m\u001b[0m\n\u001b[0;32m-> 1266\u001b[0;31m         \u001b[0mself\u001b[0m\u001b[0;34m.\u001b[0m\u001b[0m_validate_read_indexer\u001b[0m\u001b[0;34m(\u001b[0m\u001b[0mkeyarr\u001b[0m\u001b[0;34m,\u001b[0m \u001b[0mindexer\u001b[0m\u001b[0;34m,\u001b[0m \u001b[0maxis\u001b[0m\u001b[0;34m,\u001b[0m \u001b[0mraise_missing\u001b[0m\u001b[0;34m=\u001b[0m\u001b[0mraise_missing\u001b[0m\u001b[0;34m)\u001b[0m\u001b[0;34m\u001b[0m\u001b[0;34m\u001b[0m\u001b[0m\n\u001b[0m\u001b[1;32m   1267\u001b[0m         \u001b[0;32mreturn\u001b[0m \u001b[0mkeyarr\u001b[0m\u001b[0;34m,\u001b[0m \u001b[0mindexer\u001b[0m\u001b[0;34m\u001b[0m\u001b[0;34m\u001b[0m\u001b[0m\n\u001b[1;32m   1268\u001b[0m \u001b[0;34m\u001b[0m\u001b[0m\n",
      "\u001b[0;32m~/tesis/proyecto-de-grado/my_env/lib/python3.8/site-packages/pandas/core/indexing.py\u001b[0m in \u001b[0;36m_validate_read_indexer\u001b[0;34m(self, key, indexer, axis, raise_missing)\u001b[0m\n\u001b[1;32m   1314\u001b[0m             \u001b[0;32mif\u001b[0m \u001b[0mraise_missing\u001b[0m\u001b[0;34m:\u001b[0m\u001b[0;34m\u001b[0m\u001b[0;34m\u001b[0m\u001b[0m\n\u001b[1;32m   1315\u001b[0m                 \u001b[0mnot_found\u001b[0m \u001b[0;34m=\u001b[0m \u001b[0mlist\u001b[0m\u001b[0;34m(\u001b[0m\u001b[0mset\u001b[0m\u001b[0;34m(\u001b[0m\u001b[0mkey\u001b[0m\u001b[0;34m)\u001b[0m \u001b[0;34m-\u001b[0m \u001b[0mset\u001b[0m\u001b[0;34m(\u001b[0m\u001b[0max\u001b[0m\u001b[0;34m)\u001b[0m\u001b[0;34m)\u001b[0m\u001b[0;34m\u001b[0m\u001b[0;34m\u001b[0m\u001b[0m\n\u001b[0;32m-> 1316\u001b[0;31m                 \u001b[0;32mraise\u001b[0m \u001b[0mKeyError\u001b[0m\u001b[0;34m(\u001b[0m\u001b[0;34mf\"{not_found} not in index\"\u001b[0m\u001b[0;34m)\u001b[0m\u001b[0;34m\u001b[0m\u001b[0;34m\u001b[0m\u001b[0m\n\u001b[0m\u001b[1;32m   1317\u001b[0m \u001b[0;34m\u001b[0m\u001b[0m\n\u001b[1;32m   1318\u001b[0m             \u001b[0mnot_found\u001b[0m \u001b[0;34m=\u001b[0m \u001b[0mkey\u001b[0m\u001b[0;34m[\u001b[0m\u001b[0mmissing_mask\u001b[0m\u001b[0;34m]\u001b[0m\u001b[0;34m\u001b[0m\u001b[0;34m\u001b[0m\u001b[0m\n",
      "\u001b[0;31mKeyError\u001b[0m: \"['day_mon', 'month_dec', 'month_feb', 'day_wed', 'month_apr', 'month_nov', 'month_sep', 'month_jun', 'month_oct', 'month_may', 'day_sun', 'day_thu', 'day_tue', 'day_fri', 'month_jan', 'month_jul', 'month_mar', 'month_aug', 'day_sat'] not in index\""
     ]
    }
   ],
   "source": [
    "df\n",
    "X = df[[\n",
    "    'X', 'Y', 'FFMC', 'DMC', 'DC', 'ISI', 'temp', 'RH', 'wind', 'rain',\n",
    "    'month_apr', 'month_aug', 'month_dec', 'month_feb', 'month_jan',\n",
    "       'month_jul', 'month_jun', 'month_mar', 'month_may', 'month_nov',\n",
    "       'month_oct', 'month_sep', 'day_fri', 'day_mon', 'day_sat', 'day_sun',\n",
    "       'day_thu', 'day_tue', 'day_wed']].to_numpy()\n",
    "y = df['area']\n"
   ]
  },
  {
   "cell_type": "code",
   "execution_count": null,
   "id": "numerous-youth",
   "metadata": {},
   "outputs": [],
   "source": []
  },
  {
   "cell_type": "code",
   "execution_count": null,
   "id": "political-sunset",
   "metadata": {},
   "outputs": [],
   "source": []
  }
 ],
 "metadata": {
  "kernelspec": {
   "display_name": "Python 3",
   "language": "python",
   "name": "python3"
  },
  "language_info": {
   "codemirror_mode": {
    "name": "ipython",
    "version": 3
   },
   "file_extension": ".py",
   "mimetype": "text/x-python",
   "name": "python",
   "nbconvert_exporter": "python",
   "pygments_lexer": "ipython3",
   "version": "3.8.6"
  }
 },
 "nbformat": 4,
 "nbformat_minor": 5
}
